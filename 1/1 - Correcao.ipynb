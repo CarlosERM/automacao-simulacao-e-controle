{
 "cells": [
  {
   "cell_type": "code",
   "execution_count": null,
   "metadata": {},
   "outputs": [],
   "source": [
    "def definir_planilha(self, arquivo):\n",
    "    df = pd.read_excel(arquivo, engine='openpyxl')\n",
    "    dados = []\n",
    "    colunas = [\"Nº do Convênio\", \"CNPJ\"]\n",
    "    cont = 0\n",
    "    for ind, linha in df.iterrows():\n",
    "        convenio = int(linha.iloc[0])\n",
    "        cnpj = self.pegar_cnpj(convenio)\n",
    "        dados += [[convenio, cnpj]]\n",
    "        if cont==10\n",
    "            break\n",
    "        cont += 1"
   ]
  }
 ],
 "metadata": {
  "kernelspec": {
   "display_name": "Python 3.10.5 64-bit",
   "language": "python",
   "name": "python3"
  },
  "language_info": {
   "name": "python",
   "version": "3.10.5"
  },
  "orig_nbformat": 4,
  "vscode": {
   "interpreter": {
    "hash": "369f2c481f4da34e4445cda3fffd2e751bd1c4d706f27375911949ba6bb62e1c"
   }
  }
 },
 "nbformat": 4,
 "nbformat_minor": 2
}
