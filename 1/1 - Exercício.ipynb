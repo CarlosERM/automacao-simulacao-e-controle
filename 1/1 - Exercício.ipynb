{
 "cells": [
  {
   "cell_type": "code",
   "execution_count": 6,
   "metadata": {},
   "outputs": [],
   "source": [
    "from selenium import webdriver\n",
    "from selenium.webdriver.chrome.service import Service\n",
    "from selenium.webdriver.common.by import By\n",
    "from webdriver_manager.chrome import ChromeDriverManager\n",
    "import pandas as panda\n",
    "\n",
    "class Principal(webdriver.Chrome):\n",
    "\n",
    "    def __init__(self):\n",
    "        options = webdriver.ChromeOptions().add_experimental_option('excludeSwitches', ['enable-loggin'])\n",
    "        service = Service(ChromeDriverManager().install())\n",
    "        super(Principal, self).__init__(service = service, options = options)\n",
    "        self.get(\"https://voluntarias.plataformamaisbrasil.gov.br/voluntarias/Principal/Principal.do?Usr=guest&Pwd=guest\")\n",
    "\n",
    "    def plataformaMaisBrasil(self):\n",
    "        self.implicitly_wait(5)\n",
    "\n",
    "        column = self.find_element(By.CLASS_NAME, \"col1\")\n",
    "\n",
    "        convenio = column.find_elements(By.TAG_NAME, \"div\")[3]\n",
    "\n",
    "        convenio.click()\n",
    "        consultaConvenios = self.find_element(By.TAG_NAME, \"li\")\n",
    "        consultaConvenios.click()\n",
    "    def consultarConvenio(self):\n",
    "        cnpj = panda.read_excel(\"./solicitacoes.xlsx\", index_col=0)\n",
    "        numero_convenios = cnpj.index.values\n",
    "        numero_convenios_encontrados = []\n",
    "        cnpj_encontrados = []\n",
    "\n",
    "        for numero_convenio in numero_convenios:\n",
    "            self.get()\n",
    "            input_convenio = self.find_element(By.ID, \"consultarNumeroConvenio\")\n",
    "            form_submit = self.find_element(By.ID, \"form_submit\")\n",
    "            input_convenio.send_keys(str(numero_convenio))\n",
    "            form_submit.click()\n",
    "            table_line = self.find_element(By.ID, \"listaResultado\")\n",
    "            if(table_line.text == \"Nenhum registro foi encontrado.\"):\n",
    "                self.plataformaMaisBrasil()\n",
    "            else:\n",
    "                table_line.find_elements(By.TAG_NAME, \"a\")[0].click()\n",
    "                proponente = self.find_element(By.CLASS_NAME, \"proponente\")\n",
    "                cnpj = proponente.find_elements(By.TAG_NAME, \"td\")[1].text.split(\" \")[1]\n",
    "                numero_convenios_encontrados.append(numero_convenio)\n",
    "                cnpj_encontrados.append(cnpj)\n",
    "                self.plataformaMaisBrasil()\n",
    "            \n",
    "            \n",
    "        dados = {'numero': numero_convenios_encontrados, 'cnpj': cnpj_encontrados}\n",
    "        data_frame_resposta = panda.DataFrame(data = dados)\n",
    "        data_frame_resposta.to_excel(\"resposta.xlsx\", index=False)    \n",
    "        \n",
    "bot = Principal()\n",
    "\n",
    "\n",
    "bot.plataformaMaisBrasil()\n",
    "bot.consultarConvenio()"
   ]
  },
  {
   "cell_type": "code",
   "execution_count": null,
   "metadata": {},
   "outputs": [],
   "source": [
    "from selenium import webdriver\n",
    "from selenium.webdriver.common.keys import Keys\n",
    "from selenium.webdriver.common.by import By\n",
    "\n",
    "driver = webdriver.Firefox()\n",
    "driver.get(\"http://www.python.org\")\n",
    "assert \"Python\" in driver.title\n",
    "elem = driver.find_element(By.NAME, \"q\")\n",
    "elem.clear()\n",
    "elem.send_keys(\"pycon\")\n",
    "elem.send_keys(Keys.RETURN)\n",
    "assert \"No results found.\" not in driver.page_source\n",
    "driver.close()"
   ]
  }
 ],
 "metadata": {
  "kernelspec": {
   "display_name": "Python 3.10.5 64-bit",
   "language": "python",
   "name": "python3"
  },
  "language_info": {
   "codemirror_mode": {
    "name": "ipython",
    "version": 3
   },
   "file_extension": ".py",
   "mimetype": "text/x-python",
   "name": "python",
   "nbconvert_exporter": "python",
   "pygments_lexer": "ipython3",
   "version": "3.10.5"
  },
  "orig_nbformat": 4,
  "vscode": {
   "interpreter": {
    "hash": "369f2c481f4da34e4445cda3fffd2e751bd1c4d706f27375911949ba6bb62e1c"
   }
  }
 },
 "nbformat": 4,
 "nbformat_minor": 2
}
