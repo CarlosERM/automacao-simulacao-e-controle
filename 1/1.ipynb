{
 "cells": [
  {
   "cell_type": "code",
   "execution_count": 6,
   "metadata": {},
   "outputs": [],
   "source": [
    "from selenium import webdriver\n",
    "from selenium.webdriver.chrome.service import Service\n",
    "from selenium.webdriver.common.by import By\n",
    "\n",
    "from webdriver_manager.chrome import ChromeDriverManager\n",
    "\n",
    "class Principal(webdriver.Chrome):\n",
    "\n",
    "    def __init__(self):\n",
    "        options = webdriver.ChromeOptions().add_experimental_option('excludeSwitches', ['enable-loggin'])\n",
    "        service = Service(ChromeDriverManager().install())\n",
    "        super(Principal, self).__init__(service = service, options = options)\n",
    "        self.maximize_window()\n",
    "\n",
    "    def abrirFace(self):\n",
    "        self.get(\"https://facebook.com\")\n",
    "        print('O título da aplicação é: ', self.title)\n",
    "        print('O endereço url é: ', self.current_url)\n",
    "        self.close()\n",
    "\n",
    "    def loginGuru(self):\n",
    "        self.get(\"https://www.demo.guru99.com/test/newtours\")\n",
    "        usuario = self.find_element(By.NAME, \"userName\")\n",
    "        senha = self.find_element(By.NAME, \"password\")\n",
    "        submit = self.find_element(By.NAME, \"submit\")\n",
    "\n",
    "        usuario.send_keys('mercury')\n",
    "        senha.send_keys('mercury')\n",
    "        submit.click()\n",
    "\n",
    "    def pesquisarGoogle(self):\n",
    "        self.get(\"https://google.com\")\n",
    "        self.implicitly_wait(5)\n",
    "        caixa_busca = self.find_element(By.NAME, 'q')\n",
    "        caixa_busca.send_keys(\"Automação de Processos\")\n",
    "        caixa_busca.submit()\n",
    "\n",
    "    def downloadArquivo(self):\n",
    "        self.get(\"https://jqueryui.com/resources/demos/progressbar/download.html\")\n",
    "        download = self.find_element(By.ID, \"downloadButton\")\n",
    "        download.click()\n",
    "        progress_element = self.find_element(By.CLASS_NAME, 'progress-label')\n",
    "        print(f\"{progress_element.text == 'Complete!'}\")\n",
    "        \n",
    "    def downloadArquivoWait(self):\n",
    "        self.get(\"https://jqueryui.com/resources/demos/progressbar/download.html\")\n",
    "        download = self.find_element(By.ID, \"downloadButton\")\n",
    "        download.click()\n",
    "        WebDriverWait(self, 30).until(\n",
    "            EC.text_to_be_present_in_element((By.CLASS_NAME, 'progress-label', 'Complete'))\n",
    "        )\n",
    "        progress_element = self.find_element(By.CLASS_NAME, 'progress-label')\n",
    "        print(f\"{progress_element.text=='Complete!'}\")\n",
    "bot = Principal()\n",
    "\n",
    "\n",
    "bot.loginGuru()"
   ]
  },
  {
   "cell_type": "code",
   "execution_count": null,
   "metadata": {},
   "outputs": [],
   "source": [
    "# Crie um robô de software com python e selenium para acessar a plataforma +Brasil e\n",
    "# procurar o CNPJ de convênios (na planilha solicitacoes.xlsx).\n",
    "downloadArquivo()\n",
    "\n",
    "def lerPlanilha(self, arquivo):\n",
    "    df = pd.red_excel(arquivo, engine='openpyxl')\n",
    "    for ind, linha in df.iterrows)(): \n",
    "        convenio = linha.iloc[0]\n",
    "        print(convenio)\n",
    "    return(df)\n",
    "\n",
    "def escreverPlanilha(self, df):\n",
    "    for i in range(leng(df)):\n",
    "        df.at[i, 2] = 'cnpj'\n",
    "    df.to_excel('solicitacoes2.xlsx', index = False)"
   ]
  }
 ],
 "metadata": {
  "kernelspec": {
   "display_name": "Python 3.10.5 64-bit",
   "language": "python",
   "name": "python3"
  },
  "language_info": {
   "codemirror_mode": {
    "name": "ipython",
    "version": 3
   },
   "file_extension": ".py",
   "mimetype": "text/x-python",
   "name": "python",
   "nbconvert_exporter": "python",
   "pygments_lexer": "ipython3",
   "version": "3.10.5"
  },
  "orig_nbformat": 4,
  "vscode": {
   "interpreter": {
    "hash": "369f2c481f4da34e4445cda3fffd2e751bd1c4d706f27375911949ba6bb62e1c"
   }
  }
 },
 "nbformat": 4,
 "nbformat_minor": 2
}
