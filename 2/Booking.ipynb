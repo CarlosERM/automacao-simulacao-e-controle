{
 "cells": [
  {
   "cell_type": "code",
   "execution_count": 5,
   "metadata": {},
   "outputs": [],
   "source": [
    "from selenium import webdriver\n",
    "from selenium.webdriver.chrome.service import Service\n",
    "from selenium.webdriver.common.by import By\n",
    "from webdriver_manager.chrome import ChromeDriverManager\n",
    "import pandas as panda\n",
    "\n",
    "class Booking(webdriver.Chrome):\n",
    "\n",
    "    def __init__(self):\n",
    "        options = webdriver.ChromeOptions().add_experimental_option('excludeSwitches', ['enable-loggin'])\n",
    "        service = Service(ChromeDriverManager().install())\n",
    "        super(Booking, self).__init__(service = service, options = options)\n",
    "        self.maximize_window()\n",
    "        self.implicitly_wait(3)\n",
    "\n",
    "    def __exit__(self, exc_type, exc_value, trace):\n",
    "        print(\"Saindo.\")\n",
    "        self.implicitly_wait(3)\n",
    "\n",
    "    def pagina_inicial(self):\n",
    "        self.get(\"https://www.booking.com/index.pt-br.html?label=gen173nr-1BCAEoggI46AdIM1gEaCCIAQGYAS24ARfIAQzYAQHoAQGIAgGoAgO4AozmjpgGwAIB0gIkOGVjNzgwNmItNDQzMC00ZmUyLWI1ZjYtMzA1OTdjMzY5MjFj2AIF4AIB&sid=847a477bab43963ab054fc0c468eeb54&keep_landing=1&sb_price_type=total&\")\n",
    "    \n",
    "    def mudar_moeda(self, moeda):\n",
    "        botao = self.find_element(By.CSS_SELECTOR, '[data-tooltip-text=\"Escolha sua moeda\"]').click()\n",
    "        selected_moeda = self.find_element(By.CSS_SELECTOR, f'a[data-modal-header-async-url-param=\"changed_currency=1&selected_currency={moeda}\"').click()\n",
    "\n",
    "    def selecionar_local(self):\n",
    "        local = self.find_element(By.ID, \"ss\")\n",
    "        local.send_keys(\"Rio de Janeiro\")\n",
    "        self.find_element(By.CSS_SELECTOR, \"li[role='option']\").click()\n",
    "\n",
    "    def selecionar_datas(self):\n",
    "        data_check_in = self.find_element(By.CSS_SELECTOR, '[data-date=\"2022-09-07\"]').click()\n",
    "        data_check_out = self.find_element(By.CSS_SELECTOR, '[data-date=\"2022-09-14\"]').click()\n",
    "    def selecionar_pessoas(self):\n",
    "        pessoas = self.find_element(By.ID, 'xp__guests__toggle').click()\n",
    "        buttonAdultos = self.find_element(By.CSS_SELECTOR, '[aria-label=\"Aumentar número de Adultos\"]')\n",
    "        buttonCriancas = self.find_element(By.CSS_SELECTOR, '[aria-label=\"Aumentar número de Crianças\"]')\n",
    "        \n",
    "        for x in range(3):\n",
    "            buttonCriancas.click()\n",
    "    \n",
    "        for x in range(3):\n",
    "            select = self.find_element(By.CSS_SELECTOR, f'[data-group-child-age=\"{x}\"]').click()\n",
    "            option = self.find_element(By.CSS_SELECTOR, f'[data-group-child-age=\"{x}\"]>option[value=\"5\"]').click() \n",
    "\n",
    "        buttonQuartos = self.find_element(By.CSS_SELECTOR, '[aria-label=\"Aumentar número de Quartos\"]').click()\n",
    "        buttonSearch = self.find_element(By.CLASS_NAME, 'sb-searchbox__button').click()\n",
    "\n",
    "bot = Booking()\n",
    "bot.pagina_inicial()\n",
    "bot.mudar_moeda(\"BRL\")\n",
    "bot.selecionar_local()\n",
    "bot.selecionar_datas()\n",
    "bot.selecionar_pessoas()"
   ]
  }
 ],
 "metadata": {
  "kernelspec": {
   "display_name": "Python 3.10.5 64-bit",
   "language": "python",
   "name": "python3"
  },
  "language_info": {
   "codemirror_mode": {
    "name": "ipython",
    "version": 3
   },
   "file_extension": ".py",
   "mimetype": "text/x-python",
   "name": "python",
   "nbconvert_exporter": "python",
   "pygments_lexer": "ipython3",
   "version": "3.10.5"
  },
  "orig_nbformat": 4,
  "vscode": {
   "interpreter": {
    "hash": "369f2c481f4da34e4445cda3fffd2e751bd1c4d706f27375911949ba6bb62e1c"
   }
  }
 },
 "nbformat": 4,
 "nbformat_minor": 2
}
