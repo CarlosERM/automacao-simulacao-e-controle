{
 "cells": [
  {
   "cell_type": "code",
   "execution_count": 4,
   "metadata": {},
   "outputs": [],
   "source": [
    "from selenium.webdriver.common.by import By\n",
    "from selenium.webdriver.support.ui import WebDriverWait\n",
    "from selenium.webdriver.support import expected_conditions as EC\n",
    "from selenium.webdriver import ActionChains\n",
    "from selenium.webdriver.common.action_chains import ActionChains\n",
    "from selenium.webdriver.common.keys import Keys\n",
    "from selenium import webdriver \n",
    "import time\n",
    "import os \n",
    "import tkinter\n",
    "import tkinter.messagebox\n",
    "\n",
    "class Principal(webdriver.Chrome):\n",
    "\n",
    "    def __init__(self, driver_path=r\"chromedriver.exe\"):\n",
    "        self.driver_path = driver_path\n",
    "        os.environ['PATH'] += self.driver_path\n",
    "        super(Principal, self).__init__()\n",
    "        self.implicitly_wait(15)\n",
    "        self.maximize_window()\n",
    "\n",
    "    def __exit__(self, exc_type, exc_value, trace):\n",
    "        print(\"Saindo.\")\n",
    "        self.implicitly_wait(3)\n",
    "    def sei_teste_login(self):\n",
    "        self.get(\"https://sipseiteste.fiocruz.br/login.php?sigla_orgao_sistema=FIOCRUZ&sigla_sistema=SEI\")\n",
    "        usuario = self.find_element(By.ID, \"txtUsuario\")\n",
    "        usuario.send_keys(\"teste\")\n",
    "        time.sleep(1)\n",
    "        senha = self.find_element(By.ID, \"pwdSenha\")\n",
    "        senha.send_keys(\"teste\")\n",
    "        botao = self.find_element(By.NAME, \"sbmLogin\").click()\n",
    "    def sei_teste_pesquisa(self):\n",
    "        pesquisa = self.find_element(By.ID, \"txtPesquisaRapida\")\n",
    "        pesquisa.send_keys(\"92.000114/2020-20\")\n",
    "        pesquisa.send_keys(Keys.RETURN)\n",
    "    def sei_teste_colocar_documento(self):\n",
    "        iframe = self.find_element(By.ID, \"ifrVisualizacao\")\n",
    "        self.switch_to.frame(iframe)\n",
    "        incluir_documento = self.find_element(By.XPATH, \"//*[@id='divArvoreAcoes']/a[1]/img\").click()\n",
    "        externo = self.find_element(By.CSS_SELECTOR, \"tr[data-desc=' externo']\").click()\n",
    "        tipo_documento = self.find_element(By.ID, \"selSerie\").click()\n",
    "        anexo = self.find_element(By.CSS_SELECTOR, \"option[value='263']\").click()\n",
    "        data_documento = self.find_element(By.ID, \"txtDataElaboracao\")\n",
    "        data_documento.send_keys(\"26/05/2022\")\n",
    "        nato_digital = self.find_element(By.ID, \"lblNato\").click()\n",
    "        publico = self.find_element(By.ID, \"lblPublico\").click()\n",
    "        arquivo = \"C:\\\\Users\\\\carlo\\\\OneDrive\\\\Área de Trabalho\\\\Ciência da Computação\\\\Automação, Controle\\\\3\\\\tarefa.pdf\"\n",
    "        input_arquivo = self.find_element(By.ID, \"filArquivo\").send_keys(arquivo)\n",
    "        time.sleep(2)\n",
    "        botao2 = self.find_element(By.ID, \"btnSalvar\").click()\n",
    "\n",
    "bot = Principal()\n",
    "bot.sei_teste_login()\n",
    "bot.sei_teste_pesquisa()\n",
    "bot.sei_teste_colocar_documento()"
   ]
  }
 ],
 "metadata": {
  "kernelspec": {
   "display_name": "Python 3.10.5 64-bit",
   "language": "python",
   "name": "python3"
  },
  "language_info": {
   "codemirror_mode": {
    "name": "ipython",
    "version": 3
   },
   "file_extension": ".py",
   "mimetype": "text/x-python",
   "name": "python",
   "nbconvert_exporter": "python",
   "pygments_lexer": "ipython3",
   "version": "3.10.5"
  },
  "orig_nbformat": 4,
  "vscode": {
   "interpreter": {
    "hash": "369f2c481f4da34e4445cda3fffd2e751bd1c4d706f27375911949ba6bb62e1c"
   }
  }
 },
 "nbformat": 4,
 "nbformat_minor": 2
}
