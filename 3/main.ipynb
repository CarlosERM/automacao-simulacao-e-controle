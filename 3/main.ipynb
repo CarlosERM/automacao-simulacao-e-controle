{
 "cells": [
  {
   "cell_type": "code",
   "execution_count": 47,
   "metadata": {},
   "outputs": [
    {
     "ename": "InvalidArgumentException",
     "evalue": "Message: invalid argument\n  (Session info: chrome=105.0.5195.102)\nStacktrace:\nBacktrace:\n\tOrdinal0 [0x006DDF13+2219795]\n\tOrdinal0 [0x00672841+1779777]\n\tOrdinal0 [0x00584100+803072]\n\tOrdinal0 [0x005AA329+959273]\n\tOrdinal0 [0x005CE7FC+1107964]\n\tOrdinal0 [0x005A94B4+955572]\n\tOrdinal0 [0x005CEA14+1108500]\n\tOrdinal0 [0x005DF192+1175954]\n\tOrdinal0 [0x005CE616+1107478]\n\tOrdinal0 [0x005A7F89+950153]\n\tOrdinal0 [0x005A8F56+954198]\n\tGetHandleVerifier [0x009D2CB2+3040210]\n\tGetHandleVerifier [0x009C2BB4+2974420]\n\tGetHandleVerifier [0x00776A0A+565546]\n\tGetHandleVerifier [0x00775680+560544]\n\tOrdinal0 [0x00679A5C+1808988]\n\tOrdinal0 [0x0067E3A8+1827752]\n\tOrdinal0 [0x0067E495+1827989]\n\tOrdinal0 [0x006880A4+1867940]\n\tBaseThreadInitThunk [0x76106739+25]\n\tRtlGetFullPathName_UEx [0x76F190AF+1215]\n\tRtlGetFullPathName_UEx [0x76F1907D+1165]\n",
     "output_type": "error",
     "traceback": [
      "\u001b[1;31m---------------------------------------------------------------------------\u001b[0m",
      "\u001b[1;31mInvalidArgumentException\u001b[0m                  Traceback (most recent call last)",
      "\u001b[1;32mc:\\Users\\carlo\\OneDrive\\Área de Trabalho\\Ciência da Computação\\Automação, Controle\\3\\main.ipynb Célula: 1\u001b[0m in \u001b[0;36m<cell line: 55>\u001b[1;34m()\u001b[0m\n\u001b[0;32m     <a href='vscode-notebook-cell:/c%3A/Users/carlo/OneDrive/%C3%81rea%20de%20Trabalho/Ci%C3%AAncia%20da%20Computa%C3%A7%C3%A3o/Automa%C3%A7%C3%A3o%2C%20Controle/3/main.ipynb#W0sZmlsZQ%3D%3D?line=52'>53</a>\u001b[0m bot\u001b[39m.\u001b[39msei_teste_login()\n\u001b[0;32m     <a href='vscode-notebook-cell:/c%3A/Users/carlo/OneDrive/%C3%81rea%20de%20Trabalho/Ci%C3%AAncia%20da%20Computa%C3%A7%C3%A3o/Automa%C3%A7%C3%A3o%2C%20Controle/3/main.ipynb#W0sZmlsZQ%3D%3D?line=53'>54</a>\u001b[0m bot\u001b[39m.\u001b[39msei_teste_pesquisa()\n\u001b[1;32m---> <a href='vscode-notebook-cell:/c%3A/Users/carlo/OneDrive/%C3%81rea%20de%20Trabalho/Ci%C3%AAncia%20da%20Computa%C3%A7%C3%A3o/Automa%C3%A7%C3%A3o%2C%20Controle/3/main.ipynb#W0sZmlsZQ%3D%3D?line=54'>55</a>\u001b[0m bot\u001b[39m.\u001b[39;49msei_teste_colocar_documento()\n",
      "\u001b[1;32mc:\\Users\\carlo\\OneDrive\\Área de Trabalho\\Ciência da Computação\\Automação, Controle\\3\\main.ipynb Célula: 1\u001b[0m in \u001b[0;36mPrincipal.sei_teste_colocar_documento\u001b[1;34m(self)\u001b[0m\n\u001b[0;32m     <a href='vscode-notebook-cell:/c%3A/Users/carlo/OneDrive/%C3%81rea%20de%20Trabalho/Ci%C3%AAncia%20da%20Computa%C3%A7%C3%A3o/Automa%C3%A7%C3%A3o%2C%20Controle/3/main.ipynb#W0sZmlsZQ%3D%3D?line=46'>47</a>\u001b[0m publico \u001b[39m=\u001b[39m \u001b[39mself\u001b[39m\u001b[39m.\u001b[39mfind_element(By\u001b[39m.\u001b[39mID, \u001b[39m\"\u001b[39m\u001b[39mlblPublico\u001b[39m\u001b[39m\"\u001b[39m)\u001b[39m.\u001b[39mclick()\n\u001b[0;32m     <a href='vscode-notebook-cell:/c%3A/Users/carlo/OneDrive/%C3%81rea%20de%20Trabalho/Ci%C3%AAncia%20da%20Computa%C3%A7%C3%A3o/Automa%C3%A7%C3%A3o%2C%20Controle/3/main.ipynb#W0sZmlsZQ%3D%3D?line=47'>48</a>\u001b[0m input_arquivo \u001b[39m=\u001b[39m \u001b[39mself\u001b[39m\u001b[39m.\u001b[39mfind_element(By\u001b[39m.\u001b[39mXPATH, \u001b[39m\"\u001b[39m\u001b[39m//*[@id=\u001b[39m\u001b[39m'\u001b[39m\u001b[39mfilArquivo\u001b[39m\u001b[39m'\u001b[39m\u001b[39m]\u001b[39m\u001b[39m\"\u001b[39m)\n\u001b[1;32m---> <a href='vscode-notebook-cell:/c%3A/Users/carlo/OneDrive/%C3%81rea%20de%20Trabalho/Ci%C3%AAncia%20da%20Computa%C3%A7%C3%A3o/Automa%C3%A7%C3%A3o%2C%20Controle/3/main.ipynb#W0sZmlsZQ%3D%3D?line=48'>49</a>\u001b[0m input_arquivo\u001b[39m.\u001b[39;49mclick()\n",
      "File \u001b[1;32mc:\\Python310\\lib\\site-packages\\selenium\\webdriver\\remote\\webelement.py:88\u001b[0m, in \u001b[0;36mWebElement.click\u001b[1;34m(self)\u001b[0m\n\u001b[0;32m     86\u001b[0m \u001b[39mdef\u001b[39;00m \u001b[39mclick\u001b[39m(\u001b[39mself\u001b[39m) \u001b[39m-\u001b[39m\u001b[39m>\u001b[39m \u001b[39mNone\u001b[39;00m:\n\u001b[0;32m     87\u001b[0m     \u001b[39m\"\"\"Clicks the element.\"\"\"\u001b[39;00m\n\u001b[1;32m---> 88\u001b[0m     \u001b[39mself\u001b[39;49m\u001b[39m.\u001b[39;49m_execute(Command\u001b[39m.\u001b[39;49mCLICK_ELEMENT)\n",
      "File \u001b[1;32mc:\\Python310\\lib\\site-packages\\selenium\\webdriver\\remote\\webelement.py:396\u001b[0m, in \u001b[0;36mWebElement._execute\u001b[1;34m(self, command, params)\u001b[0m\n\u001b[0;32m    394\u001b[0m     params \u001b[39m=\u001b[39m {}\n\u001b[0;32m    395\u001b[0m params[\u001b[39m'\u001b[39m\u001b[39mid\u001b[39m\u001b[39m'\u001b[39m] \u001b[39m=\u001b[39m \u001b[39mself\u001b[39m\u001b[39m.\u001b[39m_id\n\u001b[1;32m--> 396\u001b[0m \u001b[39mreturn\u001b[39;00m \u001b[39mself\u001b[39;49m\u001b[39m.\u001b[39;49m_parent\u001b[39m.\u001b[39;49mexecute(command, params)\n",
      "File \u001b[1;32mc:\\Python310\\lib\\site-packages\\selenium\\webdriver\\remote\\webdriver.py:434\u001b[0m, in \u001b[0;36mWebDriver.execute\u001b[1;34m(self, driver_command, params)\u001b[0m\n\u001b[0;32m    432\u001b[0m response \u001b[39m=\u001b[39m \u001b[39mself\u001b[39m\u001b[39m.\u001b[39mcommand_executor\u001b[39m.\u001b[39mexecute(driver_command, params)\n\u001b[0;32m    433\u001b[0m \u001b[39mif\u001b[39;00m response:\n\u001b[1;32m--> 434\u001b[0m     \u001b[39mself\u001b[39;49m\u001b[39m.\u001b[39;49merror_handler\u001b[39m.\u001b[39;49mcheck_response(response)\n\u001b[0;32m    435\u001b[0m     response[\u001b[39m'\u001b[39m\u001b[39mvalue\u001b[39m\u001b[39m'\u001b[39m] \u001b[39m=\u001b[39m \u001b[39mself\u001b[39m\u001b[39m.\u001b[39m_unwrap_value(\n\u001b[0;32m    436\u001b[0m         response\u001b[39m.\u001b[39mget(\u001b[39m'\u001b[39m\u001b[39mvalue\u001b[39m\u001b[39m'\u001b[39m, \u001b[39mNone\u001b[39;00m))\n\u001b[0;32m    437\u001b[0m     \u001b[39mreturn\u001b[39;00m response\n",
      "File \u001b[1;32mc:\\Python310\\lib\\site-packages\\selenium\\webdriver\\remote\\errorhandler.py:243\u001b[0m, in \u001b[0;36mErrorHandler.check_response\u001b[1;34m(self, response)\u001b[0m\n\u001b[0;32m    241\u001b[0m         alert_text \u001b[39m=\u001b[39m value[\u001b[39m'\u001b[39m\u001b[39malert\u001b[39m\u001b[39m'\u001b[39m]\u001b[39m.\u001b[39mget(\u001b[39m'\u001b[39m\u001b[39mtext\u001b[39m\u001b[39m'\u001b[39m)\n\u001b[0;32m    242\u001b[0m     \u001b[39mraise\u001b[39;00m exception_class(message, screen, stacktrace, alert_text)  \u001b[39m# type: ignore[call-arg]  # mypy is not smart enough here\u001b[39;00m\n\u001b[1;32m--> 243\u001b[0m \u001b[39mraise\u001b[39;00m exception_class(message, screen, stacktrace)\n",
      "\u001b[1;31mInvalidArgumentException\u001b[0m: Message: invalid argument\n  (Session info: chrome=105.0.5195.102)\nStacktrace:\nBacktrace:\n\tOrdinal0 [0x006DDF13+2219795]\n\tOrdinal0 [0x00672841+1779777]\n\tOrdinal0 [0x00584100+803072]\n\tOrdinal0 [0x005AA329+959273]\n\tOrdinal0 [0x005CE7FC+1107964]\n\tOrdinal0 [0x005A94B4+955572]\n\tOrdinal0 [0x005CEA14+1108500]\n\tOrdinal0 [0x005DF192+1175954]\n\tOrdinal0 [0x005CE616+1107478]\n\tOrdinal0 [0x005A7F89+950153]\n\tOrdinal0 [0x005A8F56+954198]\n\tGetHandleVerifier [0x009D2CB2+3040210]\n\tGetHandleVerifier [0x009C2BB4+2974420]\n\tGetHandleVerifier [0x00776A0A+565546]\n\tGetHandleVerifier [0x00775680+560544]\n\tOrdinal0 [0x00679A5C+1808988]\n\tOrdinal0 [0x0067E3A8+1827752]\n\tOrdinal0 [0x0067E495+1827989]\n\tOrdinal0 [0x006880A4+1867940]\n\tBaseThreadInitThunk [0x76106739+25]\n\tRtlGetFullPathName_UEx [0x76F190AF+1215]\n\tRtlGetFullPathName_UEx [0x76F1907D+1165]\n"
     ]
    }
   ],
   "source": [
    "from selenium.webdriver.common.by import By\n",
    "from selenium.webdriver.support.ui import WebDriverWait\n",
    "from selenium.webdriver.support import expected_conditions as EC\n",
    "from selenium.webdriver import ActionChains\n",
    "from selenium.webdriver.common.action_chains import ActionChains\n",
    "from selenium.webdriver.common.keys import Keys\n",
    "from selenium import webdriver \n",
    "import time\n",
    "import os \n",
    "import tkinter\n",
    "import tkinter.messagebox\n",
    "\n",
    "class Principal(webdriver.Chrome):\n",
    "\n",
    "    def __init__(self, driver_path=r\"chromedriver.exe\"):\n",
    "        self.driver_path = driver_path\n",
    "        os.environ['PATH'] += self.driver_path\n",
    "        super(Principal, self).__init__()\n",
    "        self.implicitly_wait(15)\n",
    "        self.maximize_window()\n",
    "\n",
    "    def __exit__(self, exc_type, exc_value, trace):\n",
    "        print(\"Saindo.\")\n",
    "        self.implicitly_wait(3)\n",
    "    def sei_teste_login(self):\n",
    "        self.get(\"https://sipseiteste.fiocruz.br/login.php?sigla_orgao_sistema=FIOCRUZ&sigla_sistema=SEI\")\n",
    "        usuario = self.find_element(By.ID, \"txtUsuario\")\n",
    "        usuario.send_keys(\"teste\")\n",
    "        time.sleep(1)\n",
    "        senha = self.find_element(By.ID, \"pwdSenha\")\n",
    "        senha.send_keys(\"teste\")\n",
    "        botao = self.find_element(By.NAME, \"sbmLogin\").click()\n",
    "    def sei_teste_pesquisa(self):\n",
    "        pesquisa = self.find_element(By.ID, \"txtPesquisaRapida\")\n",
    "        pesquisa.send_keys(\"92.000114/2020-20\")\n",
    "        pesquisa.send_keys(Keys.RETURN)\n",
    "    def sei_teste_colocar_documento(self):\n",
    "        iframe = self.find_element(By.ID, \"ifrVisualizacao\")\n",
    "        self.switch_to.frame(iframe)\n",
    "        incluir_documento = self.find_element(By.XPATH, \"//*[@id='divArvoreAcoes']/a[1]/img\").click()\n",
    "        externo = self.find_element(By.CSS_SELECTOR, \"tr[data-desc=' externo']\").click()\n",
    "        tipo_documento = self.find_element(By.ID, \"selSerie\").click()\n",
    "        anexo = self.find_element(By.CSS_SELECTOR, \"option[value='263']\").click()\n",
    "        data_documento = self.find_element(By.ID, \"txtDataElaboracao\")\n",
    "        data_documento.send_keys(\"26/05/2022\")\n",
    "        nato_digital = self.find_element(By.ID, \"lblNato\").click()\n",
    "        publico = self.find_element(By.ID, \"lblPublico\").click()\n",
    "        input_arquivo = self.find_element(By.ID, \"filArquivo\")\n",
    "        #continua...\n",
    "\n",
    "bot = Principal()\n",
    "bot.sei_teste_login()\n",
    "bot.sei_teste_pesquisa()\n",
    "bot.sei_teste_colocar_documento()"
   ]
  }
 ],
 "metadata": {
  "kernelspec": {
   "display_name": "Python 3.10.5 64-bit",
   "language": "python",
   "name": "python3"
  },
  "language_info": {
   "codemirror_mode": {
    "name": "ipython",
    "version": 3
   },
   "file_extension": ".py",
   "mimetype": "text/x-python",
   "name": "python",
   "nbconvert_exporter": "python",
   "pygments_lexer": "ipython3",
   "version": "3.10.5"
  },
  "orig_nbformat": 4,
  "vscode": {
   "interpreter": {
    "hash": "369f2c481f4da34e4445cda3fffd2e751bd1c4d706f27375911949ba6bb62e1c"
   }
  }
 },
 "nbformat": 4,
 "nbformat_minor": 2
}
